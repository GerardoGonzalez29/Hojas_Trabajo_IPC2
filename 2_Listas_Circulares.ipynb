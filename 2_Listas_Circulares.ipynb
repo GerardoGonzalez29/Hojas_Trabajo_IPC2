{
  "nbformat": 4,
  "nbformat_minor": 0,
  "metadata": {
    "colab": {
      "provenance": []
    },
    "kernelspec": {
      "name": "python3",
      "display_name": "Python 3"
    },
    "language_info": {
      "name": "python"
    }
  },
  "cells": [
    {
      "cell_type": "markdown",
      "source": [
        "# **Listas Circulares**"
      ],
      "metadata": {
        "id": "5ai4EDkW04LR"
      }
    },
    {
      "cell_type": "markdown",
      "source": [
        "Definicion de la clase Receta"
      ],
      "metadata": {
        "id": "6HpwxylL08bx"
      }
    },
    {
      "cell_type": "code",
      "source": [
        "class receta:\n",
        "  def __init__(self, paciente, fecha_nac, doctor, colegiado, fecha_cita, hora_cita, tipo_consulta, tratamiento):\n",
        "    self.paciente = paciente\n",
        "    self.fecha_nac = fecha_nac\n",
        "    self.doctor = doctor\n",
        "    self.colegiado = colegiado\n",
        "    self.fecha_cita = fecha_cita\n",
        "    self.hora_cita = hora_cita\n",
        "    self.tipo_consulta = tipo_consulta\n",
        "    self.tratamiento = tratamiento"
      ],
      "metadata": {
        "id": "8MAHLHvp1AO-"
      },
      "execution_count": 1,
      "outputs": []
    },
    {
      "cell_type": "markdown",
      "source": [
        "Definicion de la Clase Nodo"
      ],
      "metadata": {
        "id": "ZGRyJfhk1zai"
      }
    },
    {
      "cell_type": "code",
      "source": [
        "class nodo:\n",
        "  def __init__(self, receta=None, siguiente=None):\n",
        "    self.receta = receta\n",
        "    self.siguiente = siguiente"
      ],
      "metadata": {
        "id": "MKtO8x5Y12Xy"
      },
      "execution_count": 2,
      "outputs": []
    },
    {
      "cell_type": "markdown",
      "source": [
        "Definicion de la clase Lista Circular"
      ],
      "metadata": {
        "id": "xgeD36m42E4c"
      }
    },
    {
      "cell_type": "code",
      "source": [
        "class lista_circular:\n",
        "  def __init__(self):\n",
        "    self.primero = None\n",
        "\n",
        "  def insertar(self, receta):\n",
        "    if self.primero is None:\n",
        "      self.primero = nodo(receta=receta)\n",
        "      self.primero.siguiente = self.primero\n",
        "    else:\n",
        "      actual = nodo(receta=receta, siguiente=self.primero.siguiente)\n",
        "      self.primero.siguiente = actual\n",
        "\n",
        "\n",
        "  def recorrer(self):\n",
        "    if self.primero is None:\n",
        "      return\n",
        "    actual = self.primero\n",
        "    print(\"Paciente: \", actual.receta.paciente, \"| Fecha de Nacimiento: \", actual.receta.fecha_nac, \"| Doctor: \", actual.receta.doctor, \"| Colegiado: \", \n",
        "            actual.receta.colegiado, \"| Fecha de Cita: \", actual.receta.fecha_cita, \"| Hora de Cita: \", actual.receta.hora_cita, \"| Tipo de Consulta: \", actual.receta.tipo_consulta, \"| Tratamiento: \",\n",
        "            actual.receta.tratamiento)\n",
        "    while actual.siguiente != self.primero:\n",
        "      actual = actual.siguiente\n",
        "      print(\"Paciente: \", actual.receta.paciente, \"| Fecha de Nacimiento: \", actual.receta.fecha_nac, \"| Doctor: \", actual.receta.doctor, \"| Colegiado: \", \n",
        "            actual.receta.colegiado, \"| Fecha de Cita: \", actual.receta.fecha_cita, \"| Hora de Cita: \", actual.receta.hora_cita, \"| Tipo de Consulta: \", actual.receta.tipo_consulta, \"| Tratamiento: \",\n",
        "            actual.receta.tratamiento)\n",
        "      \n",
        "  def eliminar(self, colegiado, fecha_cita, hora_cita):\n",
        "    actual = self.primero\n",
        "    anterior = None\n",
        "    no_encontrado = False\n",
        "\n",
        "    while actual and actual.receta.colegiado != colegiado and actual.receta.fecha_cita != fecha_cita and actual.receta.hora_cita != hora_cita:\n",
        "      anterior = actual\n",
        "      actual = actual.siguiente\n",
        "\n",
        "      if actual == self.primero:\n",
        "        no_encontrado = True\n",
        "        print(\"No Encontrado\")\n",
        "        break\n",
        "\n",
        "    if not no_encontrado:\n",
        "      if anterior is not None:\n",
        "        anterior.siguiente = actual.siguiente\n",
        "        actual.siguiente = None\n",
        "      else:\n",
        "        while actual.siguiente != self.primero:\n",
        "          actual = actual.siguiente\n",
        "        actual.siguiente = self.primero.siguiente\n",
        "        self.primero = self.primero.siguiente\n",
        "\n",
        "  def modificar(self, paciente, fecha_cita, hora_cita):\n",
        "    actual = self.primero\n",
        "    anterior = None\n",
        "\n",
        "    while actual != None:\n",
        "      if actual.receta.paciente != paciente:\n",
        "        actual = actual.siguiente\n",
        "      elif actual.receta.paciente == paciente:\n",
        "        actual.receta.fecha_cita = fecha_cita\n",
        "        actual.receta.hora_cita = hora_cita\n",
        "        break\n",
        "      \n",
        "       \n",
        "    \n",
        "    \n"
      ],
      "metadata": {
        "id": "_AXC7__82KkS"
      },
      "execution_count": 47,
      "outputs": []
    },
    {
      "cell_type": "markdown",
      "source": [
        "Creacion de Objetos Receta"
      ],
      "metadata": {
        "id": "h8LDA1nXUS02"
      }
    },
    {
      "cell_type": "code",
      "source": [
        "r1 = receta(\"Gerson López\", \"03-10-1990\", \"Melvin Ortiz\", 20156, \"17-01-2023\", \"11:30\", \"Medicina General\", \"2 pildoras de acetaminofén cada 6 horas\")\n",
        "r2 = receta(\"karen Gómez\", \"08-05-2000\", \"Jorge Merida\", 8567, \"31-01-2023\", \"09:00\", \"Medicina Interna\", \"Tylenol de 20 ml cada 4 horas\")\n",
        "r3 = receta(\"Luis Garcia\", \"17-09-1987\", \"Melvin Ortiz\", 20157, \"02-02-2023\", \"12:00\", \"Medicina General\", \"2 cucharadas de Pepto-Bismol cada hora hasta que la diarrea desaparezca\")"
      ],
      "metadata": {
        "id": "-i8hUftYUXGk"
      },
      "execution_count": 59,
      "outputs": []
    },
    {
      "cell_type": "markdown",
      "source": [
        "Inserción"
      ],
      "metadata": {
        "id": "9mErBCPuUY-k"
      }
    },
    {
      "cell_type": "code",
      "source": [
        "lista_c = lista_circular()\n",
        "lista_c.insertar(r1)\n",
        "lista_c.insertar(r2)\n",
        "lista_c.insertar(r3)"
      ],
      "metadata": {
        "id": "-2bfJx-jUcGl"
      },
      "execution_count": 60,
      "outputs": []
    },
    {
      "cell_type": "markdown",
      "source": [
        "Recorrer Lista"
      ],
      "metadata": {
        "id": "R2_mwrnNYQPe"
      }
    },
    {
      "cell_type": "code",
      "source": [
        "lista_c.recorrer()"
      ],
      "metadata": {
        "colab": {
          "base_uri": "https://localhost:8080/"
        },
        "id": "qg_HNAvJYSgv",
        "outputId": "fa306e56-f970-4197-d7d8-3392d1cd359b"
      },
      "execution_count": 61,
      "outputs": [
        {
          "output_type": "stream",
          "name": "stdout",
          "text": [
            "Paciente:  Gerson López | Fecha de Nacimiento:  03-10-1990 | Doctor:  Melvin Ortiz | Colegiado:  20156 | Fecha de Cita:  17-01-2023 | Hora de Cita:  11:30 | Tipo de Consulta:  Medicina General | Tratamiento:  2 pildoras de acetaminofén cada 6 horas\n",
            "Paciente:  Luis Garcia | Fecha de Nacimiento:  17-09-1987 | Doctor:  Melvin Ortiz | Colegiado:  20157 | Fecha de Cita:  02-02-2023 | Hora de Cita:  12:00 | Tipo de Consulta:  Medicina General | Tratamiento:  2 cucharadas de Pepto-Bismol cada hora hasta que la diarrea desaparezca\n",
            "Paciente:  karen Gómez | Fecha de Nacimiento:  08-05-2000 | Doctor:  Jorge Merida | Colegiado:  8567 | Fecha de Cita:  31-01-2023 | Hora de Cita:  09:00 | Tipo de Consulta:  Medicina Interna | Tratamiento:  Tylenol de 20 ml cada 4 horas\n"
          ]
        }
      ]
    },
    {
      "cell_type": "markdown",
      "source": [
        "Eliminar un nodo de la lista circular"
      ],
      "metadata": {
        "id": "ptoBdQhmL_Qx"
      }
    },
    {
      "cell_type": "code",
      "source": [
        "lista_c.eliminar(8567,\"31-01-2023\",\"09:00\")\n",
        "lista_c.recorrer()"
      ],
      "metadata": {
        "colab": {
          "base_uri": "https://localhost:8080/"
        },
        "id": "NcAc03lzME0x",
        "outputId": "7fa54908-8b6e-4b2b-d687-b4603d220b4e"
      },
      "execution_count": null,
      "outputs": [
        {
          "output_type": "stream",
          "name": "stdout",
          "text": [
            "Paciente:  Gerson López | Fecha de Nacimiento:  03-10-1990 | Doctor:  Melvin Ortiz | Colegiado:  20156 | Fecha de Cita:  17-01-2023 | Hora de Cita:  11:30 | Tipo de Consulta:  Medicina General | Tratamiento:  2 pildoras de acetaminofén cada 6 horas\n",
            "Paciente:  Luis Garcia | Fecha de Nacimiento:  17-09-1987 | Doctor:  Melvin Ortiz | Colegiado:  20157 | Fecha de Cita:  02-02-2023 | Hora de Cita:  12:00 | Tipo de Consulta:  Medicina General | Tratamiento:  2 cucharadas de Pepto-Bismol cada hora hasta que la diarrea desaparezca\n"
          ]
        }
      ]
    },
    {
      "cell_type": "code",
      "source": [
        "lista_c.eliminar(20156,\"17-01-2023\",\"11:30\")\n",
        "lista_c.recorrer()"
      ],
      "metadata": {
        "colab": {
          "base_uri": "https://localhost:8080/"
        },
        "id": "vCZutEQuM0iH",
        "outputId": "47ea1068-1c19-4b14-cc14-6356bd45454e"
      },
      "execution_count": null,
      "outputs": [
        {
          "output_type": "stream",
          "name": "stdout",
          "text": [
            "Paciente:  Luis Garcia | Fecha de Nacimiento:  17-09-1987 | Doctor:  Melvin Ortiz | Colegiado:  20157 | Fecha de Cita:  02-02-2023 | Hora de Cita:  12:00 | Tipo de Consulta:  Medicina General | Tratamiento:  2 cucharadas de Pepto-Bismol cada hora hasta que la diarrea desaparezca\n",
            "Paciente:  karen Gómez | Fecha de Nacimiento:  08-05-2000 | Doctor:  Jorge Merida | Colegiado:  8567 | Fecha de Cita:  31-01-2023 | Hora de Cita:  09:00 | Tipo de Consulta:  Medicina Interna | Tratamiento:  Tylenol de 20 ml cada 4 horas\n"
          ]
        }
      ]
    },
    {
      "cell_type": "markdown",
      "source": [
        "Modificar"
      ],
      "metadata": {
        "id": "F6DNcuXIS4w2"
      }
    },
    {
      "cell_type": "code",
      "source": [
        "lista_c.modificar(\"Luis Garcia\",\"01-02-2023\",\"03:00\")\n",
        "lista_c.recorrer()"
      ],
      "metadata": {
        "colab": {
          "base_uri": "https://localhost:8080/"
        },
        "id": "TKntMsHoS6MQ",
        "outputId": "04980a1b-ca56-4aae-b627-32fab70a52de"
      },
      "execution_count": 62,
      "outputs": [
        {
          "output_type": "stream",
          "name": "stdout",
          "text": [
            "Paciente:  Gerson López | Fecha de Nacimiento:  03-10-1990 | Doctor:  Melvin Ortiz | Colegiado:  20156 | Fecha de Cita:  17-01-2023 | Hora de Cita:  11:30 | Tipo de Consulta:  Medicina General | Tratamiento:  2 pildoras de acetaminofén cada 6 horas\n",
            "Paciente:  Luis Garcia | Fecha de Nacimiento:  17-09-1987 | Doctor:  Melvin Ortiz | Colegiado:  20157 | Fecha de Cita:  01-02-2023 | Hora de Cita:  03:00 | Tipo de Consulta:  Medicina General | Tratamiento:  2 cucharadas de Pepto-Bismol cada hora hasta que la diarrea desaparezca\n",
            "Paciente:  karen Gómez | Fecha de Nacimiento:  08-05-2000 | Doctor:  Jorge Merida | Colegiado:  8567 | Fecha de Cita:  31-01-2023 | Hora de Cita:  09:00 | Tipo de Consulta:  Medicina Interna | Tratamiento:  Tylenol de 20 ml cada 4 horas\n"
          ]
        }
      ]
    }
  ]
}