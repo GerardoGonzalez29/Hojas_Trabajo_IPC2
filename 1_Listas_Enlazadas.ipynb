{
  "nbformat": 4,
  "nbformat_minor": 0,
  "metadata": {
    "colab": {
      "provenance": []
    },
    "kernelspec": {
      "name": "python3",
      "display_name": "Python 3"
    },
    "language_info": {
      "name": "python"
    }
  },
  "cells": [
    {
      "cell_type": "markdown",
      "source": [
        "## **Lista Enlazadas**"
      ],
      "metadata": {
        "id": "FbjW1u1TwmGv"
      }
    },
    {
      "cell_type": "markdown",
      "source": [
        "Definicion de la clase Receta"
      ],
      "metadata": {
        "id": "hyDW95GKwsSZ"
      }
    },
    {
      "cell_type": "code",
      "source": [
        "class receta:\n",
        "  def __init__(self, paciente, fecha_nac, doctor, colegiado, fecha_cita, hora_cita, tipo_consulta, tratamiento):\n",
        "    self.paciente = paciente\n",
        "    self.fecha_nac = fecha_nac\n",
        "    self.doctor = doctor\n",
        "    self.colegiado = colegiado\n",
        "    self.fecha_cita = fecha_cita\n",
        "    self.hora_cita = hora_cita\n",
        "    self.tipo_consulta = tipo_consulta\n",
        "    self.tratamiento = tratamiento"
      ],
      "metadata": {
        "id": "rHhyXdTLxTx6"
      },
      "execution_count": 1,
      "outputs": []
    },
    {
      "cell_type": "markdown",
      "source": [
        "Definicion de la clase nodo"
      ],
      "metadata": {
        "id": "SzGo5_aVzUXl"
      }
    },
    {
      "cell_type": "code",
      "source": [
        "class nodo:\n",
        "  def __init__(self, receta=None, siguiente=None):\n",
        "    self.receta = receta\n",
        "    self.siguiente = siguiente"
      ],
      "metadata": {
        "id": "Y-QY40p_zXtz"
      },
      "execution_count": 2,
      "outputs": []
    },
    {
      "cell_type": "markdown",
      "source": [
        "**Definicion de la clase Lista Enlazada**"
      ],
      "metadata": {
        "id": "x5EPdMPS3yks"
      }
    },
    {
      "cell_type": "code",
      "source": [
        "class lista_enlazada:\n",
        "  def __init__(self):\n",
        "    self.primero = None\n",
        "\n",
        "  def insertar(self, receta):\n",
        "    if self.primero is None:\n",
        "      self.primero = nodo(receta = receta)\n",
        "      return\n",
        "    actual = self.primero\n",
        "    while actual.siguiente:\n",
        "      actual = actual.siguiente\n",
        "    actual.siguiente = nodo(receta = receta)\n",
        "\n",
        "  def recorrer(self):\n",
        "    actual = self.primero\n",
        "    \n",
        "    while actual != None:\n",
        "      print(\"Paciente: \", actual.receta.paciente, \"| Fecha de Nacimiento: \", actual.receta.fecha_nac, \"| Doctor: \", actual.receta.doctor, \"| Colegiado: \", \n",
        "            actual.receta.colegiado, \"| Fecha de Cita: \", actual.receta.fecha_cita, \"| Hora de Cita: \", actual.receta.hora_cita, \"| Tipo de Consulta: \", actual.receta.tipo_consulta, \"| Tratamiento: \",\n",
        "            actual.receta.tratamiento)\n",
        "      actual = actual.siguiente\n",
        "\n",
        "  def eliminar(self, colegiado, fecha_cita, hora_cita):\n",
        "    actual = self.primero\n",
        "    anterior = None\n",
        "\n",
        "    while actual and actual.receta.colegiado != colegiado and actual.receta.fecha_cita != fecha_cita and actual.receta.hora_cita != hora_cita:\n",
        "      anterior = actual\n",
        "      actual = actual.siguiente\n",
        "    \n",
        "    if anterior is None:\n",
        "      self.primero = actual.siguiente\n",
        "      actual.siguiente = None\n",
        "    elif actual:\n",
        "      anterior.siguiente = actual.siguiente\n",
        "      actual.siguiente = None\n",
        "      \n",
        "\n",
        "  def modificar(self, paciente, fecha_cita, hora_cita):\n",
        "    actual = self.primero\n",
        "    anterior = None\n",
        "\n",
        "    while actual and actual.receta.paciente != paciente:\n",
        "      actual = actual.siguiente\n",
        "      actual.receta.fecha_cita = fecha_cita\n",
        "      actual.receta.hora_cita = hora_cita\n",
        "\n",
        "\n",
        "      "
      ],
      "metadata": {
        "id": "zAUuZJ1Q36Ir"
      },
      "execution_count": 3,
      "outputs": []
    },
    {
      "cell_type": "markdown",
      "source": [
        "Creacion de Objetos Receta"
      ],
      "metadata": {
        "id": "0D4mFN_C_kCp"
      }
    },
    {
      "cell_type": "code",
      "source": [
        "r1 = receta(\"Gerson López\", \"03-10-1990\", \"Melvin Ortiz\", 20156, \"17-01-2023\", \"11:30\", \"Medicina General\", \"2 pildoras de acetaminofén cada 6 horas\")\n",
        "r2 = receta(\"karen Gómez\", \"08-05-2000\", \"Jorge Merida\", 8567, \"31-01-2023\", \"09:00\", \"Medicina Interna\", \"Tylenol de 20 ml cada 4 horas\")\n",
        "r3 = receta(\"Luis Garcia\", \"17-09-1987\", \"Melvin Ortiz\", 20157, \"02-02-2023\", \"12:00\", \"Medicina General\", \"2 cucharadas de Pepto-Bismol cada hora hasta que la diarrea desaparezca\")"
      ],
      "metadata": {
        "id": "RlqETovr_nIp"
      },
      "execution_count": 4,
      "outputs": []
    },
    {
      "cell_type": "markdown",
      "source": [
        "Inserción"
      ],
      "metadata": {
        "id": "Lfsgs449AUKm"
      }
    },
    {
      "cell_type": "code",
      "source": [
        "lista_e = lista_enlazada()\n",
        "lista_e.insertar(r1)\n",
        "lista_e.insertar(r2)\n",
        "lista_e.insertar(r3)"
      ],
      "metadata": {
        "id": "5MgJX-PKAXd9"
      },
      "execution_count": 5,
      "outputs": []
    },
    {
      "cell_type": "markdown",
      "source": [
        "Recorrer"
      ],
      "metadata": {
        "id": "Lk1CN6YSgLy4"
      }
    },
    {
      "cell_type": "code",
      "source": [
        "lista_e.recorrer()"
      ],
      "metadata": {
        "colab": {
          "base_uri": "https://localhost:8080/"
        },
        "id": "Y5lT2owBgOuo",
        "outputId": "4587c7e9-f02b-4653-da36-d6168b512b2a"
      },
      "execution_count": 6,
      "outputs": [
        {
          "output_type": "stream",
          "name": "stdout",
          "text": [
            "Paciente:  Gerson López | Fecha de Nacimiento:  03-10-1990 | Doctor:  Melvin Ortiz | Colegiado:  20156 | Fecha de Cita:  17-01-2023 | Hora de Cita:  11:30 | Tipo de Consulta:  Medicina General | Tratamiento:  2 pildoras de acetaminofén cada 6 horas\n",
            "Paciente:  karen Gómez | Fecha de Nacimiento:  08-05-2000 | Doctor:  Jorge Merida | Colegiado:  8567 | Fecha de Cita:  31-01-2023 | Hora de Cita:  09:00 | Tipo de Consulta:  Medicina Interna | Tratamiento:  Tylenol de 20 ml cada 4 horas\n",
            "Paciente:  Luis Garcia | Fecha de Nacimiento:  17-09-1987 | Doctor:  Melvin Ortiz | Colegiado:  20157 | Fecha de Cita:  02-02-2023 | Hora de Cita:  12:00 | Tipo de Consulta:  Medicina General | Tratamiento:  2 cucharadas de Pepto-Bismol cada hora hasta que la diarrea desaparezca\n"
          ]
        }
      ]
    },
    {
      "cell_type": "markdown",
      "source": [
        "Eliminar"
      ],
      "metadata": {
        "id": "XRjkKUzVhdwe"
      }
    },
    {
      "cell_type": "code",
      "source": [
        "lista_e.eliminar(20156,\"17-01-2023\",\"11:30\")"
      ],
      "metadata": {
        "id": "GVdNog0phfnR"
      },
      "execution_count": 11,
      "outputs": []
    },
    {
      "cell_type": "code",
      "source": [
        "lista_e.recorrer()"
      ],
      "metadata": {
        "colab": {
          "base_uri": "https://localhost:8080/"
        },
        "id": "fShFoxD_h773",
        "outputId": "77aab073-18bc-4cf1-fb8f-9f7df61a7362"
      },
      "execution_count": 8,
      "outputs": [
        {
          "output_type": "stream",
          "name": "stdout",
          "text": [
            "Paciente:  karen Gómez | Fecha de Nacimiento:  08-05-2000 | Doctor:  Jorge Merida | Colegiado:  8567 | Fecha de Cita:  31-01-2023 | Tipo de Consulta:  Medicina Interna | Tratamiento:  Tylenol de 20 ml cada 4 horas\n",
            "Paciente:  Luis Garcia | Fecha de Nacimiento:  17-09-1987 | Doctor:  Melvin Ortiz | Colegiado:  20156 | Fecha de Cita:  02-02-2023 | Tipo de Consulta:  Medicina General | Tratamiento:  2 cucharadas de Pepto-Bismol cada hora hasta que la\n"
          ]
        }
      ]
    },
    {
      "cell_type": "markdown",
      "source": [
        "Eliminar el de en medio"
      ],
      "metadata": {
        "id": "SyHLjsbLiTU_"
      }
    },
    {
      "cell_type": "code",
      "source": [
        "lista_e.eliminar(8567,\"31-01-2023\",\"09:00\")"
      ],
      "metadata": {
        "id": "24C0hnSBiabe"
      },
      "execution_count": 9,
      "outputs": []
    },
    {
      "cell_type": "code",
      "source": [
        "lista_e.recorrer()"
      ],
      "metadata": {
        "colab": {
          "base_uri": "https://localhost:8080/"
        },
        "id": "4p-8LH8hilAf",
        "outputId": "2230a650-ed65-4d55-a251-4edc2e838761"
      },
      "execution_count": 8,
      "outputs": [
        {
          "output_type": "stream",
          "name": "stdout",
          "text": [
            "Paciente:  Gerson López | Fecha de Nacimiento:  03-10-1990 | Doctor:  Melvin Ortiz | Colegiado:  20156 | Fecha de Cita:  17-01-2023 | Tipo de Consulta:  Medicina General | Tratamiento:  2 pildoras de acetaminofén cada 6 horas\n",
            "Paciente:  Luis Garcia | Fecha de Nacimiento:  17-09-1987 | Doctor:  Melvin Ortiz | Colegiado:  20156 | Fecha de Cita:  02-02-2023 | Tipo de Consulta:  Medicina General | Tratamiento:  2 cucharadas de Pepto-Bismol cada hora hasta que la\n"
          ]
        }
      ]
    },
    {
      "cell_type": "markdown",
      "source": [
        "Eliminar el Ultimo"
      ],
      "metadata": {
        "id": "Uwe8H-hSj4lr"
      }
    },
    {
      "cell_type": "code",
      "source": [
        "lista_e.eliminar(20156,\"02-02-2023\",\"12:00\")"
      ],
      "metadata": {
        "id": "SzdBu71Nj65d"
      },
      "execution_count": 7,
      "outputs": []
    },
    {
      "cell_type": "code",
      "source": [
        "lista_e.recorrer()"
      ],
      "metadata": {
        "colab": {
          "base_uri": "https://localhost:8080/"
        },
        "id": "-MIQvlaJkH-n",
        "outputId": "5e4151c1-0086-436f-b690-21745470b4fd"
      },
      "execution_count": 8,
      "outputs": [
        {
          "output_type": "stream",
          "name": "stdout",
          "text": [
            "Paciente:  karen Gómez | Fecha de Nacimiento:  08-05-2000 | Doctor:  Jorge Merida | Colegiado:  8567 | Fecha de Cita:  31-01-2023 | Tipo de Consulta:  Medicina Interna | Tratamiento:  Tylenol de 20 ml cada 4 horas\n",
            "Paciente:  Luis Garcia | Fecha de Nacimiento:  17-09-1987 | Doctor:  Melvin Ortiz | Colegiado:  20156 | Fecha de Cita:  02-02-2023 | Tipo de Consulta:  Medicina General | Tratamiento:  2 cucharadas de Pepto-Bismol cada hora hasta que la\n"
          ]
        }
      ]
    },
    {
      "cell_type": "markdown",
      "source": [
        "Modificar "
      ],
      "metadata": {
        "id": "-SoeTLyCtokB"
      }
    },
    {
      "cell_type": "code",
      "source": [
        "lista_e.modificar(\"karen Gómez\",\"01-02-2023\",\"03:00\")"
      ],
      "metadata": {
        "id": "37yCxnTxtq7n"
      },
      "execution_count": 7,
      "outputs": []
    },
    {
      "cell_type": "code",
      "source": [
        "lista_e.recorrer()"
      ],
      "metadata": {
        "colab": {
          "base_uri": "https://localhost:8080/"
        },
        "id": "s0E9lVnPt-7X",
        "outputId": "3bada264-0fdd-486b-c233-fa2c4e7073fe"
      },
      "execution_count": 8,
      "outputs": [
        {
          "output_type": "stream",
          "name": "stdout",
          "text": [
            "Paciente:  Gerson López | Fecha de Nacimiento:  03-10-1990 | Doctor:  Melvin Ortiz | Colegiado:  20156 | Fecha de Cita:  17-01-2023 | Hora de Cita:  11:30 | Tipo de Consulta:  Medicina General | Tratamiento:  2 pildoras de acetaminofén cada 6 horas\n",
            "Paciente:  karen Gómez | Fecha de Nacimiento:  08-05-2000 | Doctor:  Jorge Merida | Colegiado:  8567 | Fecha de Cita:  01-02-2023 | Hora de Cita:  03:00 | Tipo de Consulta:  Medicina Interna | Tratamiento:  Tylenol de 20 ml cada 4 horas\n",
            "Paciente:  Luis Garcia | Fecha de Nacimiento:  17-09-1987 | Doctor:  Melvin Ortiz | Colegiado:  20157 | Fecha de Cita:  02-02-2023 | Hora de Cita:  12:00 | Tipo de Consulta:  Medicina General | Tratamiento:  2 cucharadas de Pepto-Bismol cada hora hasta que la diarrea desaparezca\n"
          ]
        }
      ]
    }
  ]
}